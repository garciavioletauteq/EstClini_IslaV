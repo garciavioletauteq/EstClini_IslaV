{
  "cells": [
    {
      "cell_type": "markdown",
      "metadata": {
        "id": "view-in-github",
        "colab_type": "text"
      },
      "source": [
        "<a href=\"https://colab.research.google.com/github/garciavioletauteq/PensaMat1/blob/main/Combinaciones.ipynb\" target=\"_parent\"><img src=\"https://colab.research.google.com/assets/colab-badge.svg\" alt=\"Open In Colab\"/></a>"
      ]
    },
    {
      "cell_type": "markdown",
      "metadata": {
        "id": "Fag2rBesv4nq"
      },
      "source": [
        "## Subconjuntos de tamaño k de un conjunto de tamaño n\n",
        "\n",
        "Instrucciones: \n",
        "\n",
        "1. Da clic en el botón ▶ de la pimera línea de código.\n",
        "\n",
        "2. Luego introduce un texto o número cuando se te pide. **Debes dar enter para poder continuar**.\n",
        "\n",
        "3. Sigue dando clic en ▶ en todas las líneas de código hasta obtener tus resultados.\n",
        "\n",
        "\n"
      ]
    },
    {
      "cell_type": "markdown",
      "metadata": {
        "id": "jn-41zSAgMpx"
      },
      "source": [
        "# Problema: Tienes n trozos de telas para confeccionar capuchas, sin embargo exactamente k de esas telas están defectuosas.\n",
        "\n",
        "##¿Cuál es la probabilidad de agarrar exactamente los torozos de tela defectuosos?"
      ]
    },
    {
      "cell_type": "code",
      "execution_count": 1,
      "metadata": {
        "colab": {
          "base_uri": "https://localhost:8080/"
        },
        "id": "fMbMt72ql_1F",
        "outputId": "54c9e1bd-6bc0-4d33-87f7-ca78b93bbce9"
      },
      "outputs": [
        {
          "name": "stdout",
          "output_type": "stream",
          "text": [
            "Introduce el número de objetos: 12\n"
          ]
        }
      ],
      "source": [
        "n= int(input('Introduce el número de objetos: '))"
      ]
    },
    {
      "cell_type": "code",
      "execution_count": 2,
      "metadata": {
        "id": "Z_Heg_CLj8Mn"
      },
      "outputs": [],
      "source": [
        "objetos = [i for i in range(n)]\n",
        "#objetos"
      ]
    },
    {
      "cell_type": "code",
      "execution_count": 3,
      "metadata": {
        "colab": {
          "base_uri": "https://localhost:8080/"
        },
        "id": "4iasaeuLkfTv",
        "outputId": "8f606b5e-992f-4716-d12f-8b8506269a31"
      },
      "outputs": [
        {
          "name": "stdout",
          "output_type": "stream",
          "text": [
            "Introduce aquí el tamaño de los subconjutos de objetos 5\n"
          ]
        }
      ],
      "source": [
        "k= int(input(f'Introduce aquí el tamaño de los subconjutos de objetos '))"
      ]
    },
    {
      "cell_type": "code",
      "execution_count": 4,
      "metadata": {
        "colab": {
          "base_uri": "https://localhost:8080/"
        },
        "id": "SYE7SgCUlCfz",
        "outputId": "d8e0b5d9-35cb-4c80-c705-9fdbdc2cd619"
      },
      "outputs": [
        {
          "output_type": "stream",
          "name": "stdout",
          "text": [
            " Un subconjunto de 5 objetos al azar es: [10  8  9  1  5]\n"
          ]
        }
      ],
      "source": [
        "import numpy\n",
        "def selectRandom(listaPalabras):\n",
        "  return numpy.random.choice(objetos,k,False)\n",
        "\n",
        "print(f' Un subconjunto de {k} objetos al azar es: {selectRandom(objetos)}')"
      ]
    },
    {
      "cell_type": "code",
      "execution_count": 5,
      "metadata": {
        "id": "yQnnztJTliXK"
      },
      "outputs": [],
      "source": [
        "import math"
      ]
    },
    {
      "cell_type": "markdown",
      "metadata": {
        "id": "KxyyZfcCmRDv"
      },
      "source": [
        "Calcula el número de subconjuntos de tamaño k del conjunto de n objetos"
      ]
    },
    {
      "cell_type": "code",
      "execution_count": 6,
      "metadata": {
        "id": "JIP5BW-6l3N_"
      },
      "outputs": [],
      "source": [
        "def numero_combinaciones(n,k):\n",
        "  if n<k:\n",
        "    return 0\n",
        "  else:\n",
        "    comb = math.factorial(n) / (math.factorial(k) * math.factorial(n-k))\n",
        "    return comb"
      ]
    },
    {
      "cell_type": "markdown",
      "metadata": {
        "id": "e4GPfO2PvSQC"
      },
      "source": [
        "Éste es el total de casos para elegir k objetos del conjunto de n objetos"
      ]
    },
    {
      "cell_type": "code",
      "execution_count": 7,
      "metadata": {
        "colab": {
          "base_uri": "https://localhost:8080/"
        },
        "id": "Y01ee3BwnGe5",
        "outputId": "c1fd9034-32a5-4945-e821-18f6fb4c2d2b"
      },
      "outputs": [
        {
          "output_type": "execute_result",
          "data": {
            "text/plain": [
              "792.0"
            ]
          },
          "metadata": {},
          "execution_count": 7
        }
      ],
      "source": [
        "numero_combinaciones(n,k)"
      ]
    },
    {
      "cell_type": "markdown",
      "metadata": {
        "id": "bm5n4C1coMmb"
      },
      "source": [
        "Simularemos las combinaciones"
      ]
    },
    {
      "cell_type": "code",
      "execution_count": 8,
      "metadata": {
        "id": "HwYbU6lUGcD7"
      },
      "outputs": [],
      "source": [
        "lista_comb = []"
      ]
    },
    {
      "cell_type": "code",
      "execution_count": 9,
      "metadata": {
        "id": "JptasNvrsiH6"
      },
      "outputs": [],
      "source": [
        "# A Python program to print all\n",
        "# combinations of a given length\n",
        "from itertools import combinations\n",
        "\n",
        "comb_nk = combinations(objetos, k)\n",
        "\n",
        "# Print the obtained combinations\n",
        "for i in list(comb_nk):\n",
        "\tlista_comb.append(i)\n"
      ]
    },
    {
      "cell_type": "code",
      "execution_count": 29,
      "metadata": {
        "id": "b7LzAgN7HdVz",
        "colab": {
          "base_uri": "https://localhost:8080/"
        },
        "outputId": "db1cf5e4-83fe-4e8f-84a0-b5f3d69f423f"
      },
      "outputs": [
        {
          "output_type": "execute_result",
          "data": {
            "text/plain": [
              "list"
            ]
          },
          "metadata": {},
          "execution_count": 29
        }
      ],
      "source": [
        "#Descomentar para ver TODOS los subconjuntos\n",
        "#lista_comb"
      ]
    },
    {
      "cell_type": "markdown",
      "metadata": {
        "id": "yjhNlkCoL82P"
      },
      "source": [
        "Supongamos que solamente queremos algunos de estos subconjuntos. "
      ]
    },
    {
      "cell_type": "code",
      "execution_count": 47,
      "metadata": {
        "colab": {
          "base_uri": "https://localhost:8080/"
        },
        "id": "wwj5xbW9MBpA",
        "outputId": "c74bba73-a995-4071-b0da-60cbded782fd"
      },
      "outputs": [
        {
          "name": "stdout",
          "output_type": "stream",
          "text": [
            "Elige un número menor a 792.0: 10\n"
          ]
        }
      ],
      "source": [
        "s=int(input(f'Elige un número menor a {numero_combinaciones(n,k)}: '))"
      ]
    },
    {
      "cell_type": "markdown",
      "metadata": {
        "id": "iNZgiOEWMzt1"
      },
      "source": [
        "Tendremos s subconjuntos de tamaño k"
      ]
    },
    {
      "cell_type": "code",
      "execution_count": 48,
      "metadata": {
        "id": "TMAXAUD4L79S"
      },
      "outputs": [],
      "source": [
        "import numpy as np\n"
      ]
    },
    {
      "cell_type": "code",
      "source": [
        "import random\n",
        "lista_s = random.sample(lista_comb, s )"
      ],
      "metadata": {
        "id": "-xvV9IvxSgYg"
      },
      "execution_count": 49,
      "outputs": []
    },
    {
      "cell_type": "code",
      "execution_count": 50,
      "metadata": {
        "colab": {
          "base_uri": "https://localhost:8080/"
        },
        "id": "I20ZvfFgNhJm",
        "outputId": "17d92f0a-e1fa-47de-9f4d-74002f0f5341"
      },
      "outputs": [
        {
          "output_type": "execute_result",
          "data": {
            "text/plain": [
              "[(2, 5, 6, 8, 9),\n",
              " (2, 4, 6, 7, 9),\n",
              " (0, 2, 4, 7, 9),\n",
              " (2, 3, 4, 5, 10),\n",
              " (3, 4, 5, 7, 9),\n",
              " (1, 2, 3, 4, 9),\n",
              " (0, 5, 8, 9, 10),\n",
              " (1, 2, 3, 10, 11),\n",
              " (3, 4, 5, 7, 8),\n",
              " (1, 4, 7, 9, 10)]"
            ]
          },
          "metadata": {},
          "execution_count": 50
        }
      ],
      "source": [
        "lista_s"
      ]
    },
    {
      "cell_type": "markdown",
      "metadata": {
        "id": "bxkzoBB6viSs"
      },
      "source": [
        "#Calculemos los casos posibles.\n",
        "\n",
        "Supongamos que tenemos r objetos defectuosos"
      ]
    },
    {
      "cell_type": "code",
      "execution_count": 51,
      "metadata": {
        "colab": {
          "base_uri": "https://localhost:8080/"
        },
        "id": "lnoIcRCRzxDc",
        "outputId": "c2d6d52b-84d5-4780-df75-0278cc76abb3"
      },
      "outputs": [
        {
          "name": "stdout",
          "output_type": "stream",
          "text": [
            "introduce la cantidad de objetos defectuosos: 3\n"
          ]
        }
      ],
      "source": [
        "r= int(input('introduce la cantidad de objetos defectuosos: '))"
      ]
    },
    {
      "cell_type": "markdown",
      "metadata": {
        "id": "RkrDdrWKIL5E"
      },
      "source": [
        "Supondremos por comodidad que los objetos defectuosos son los primeros r en la lista de n elementos {1,2,..., r}"
      ]
    },
    {
      "cell_type": "code",
      "execution_count": 52,
      "metadata": {
        "id": "lbE59fJeILbp"
      },
      "outputs": [],
      "source": [
        "defectuosos = list(range(r))"
      ]
    },
    {
      "cell_type": "code",
      "execution_count": 53,
      "metadata": {
        "colab": {
          "base_uri": "https://localhost:8080/"
        },
        "id": "yPrpjVSUH3ne",
        "outputId": "6a378ae1-076c-464c-f2a1-70c2bd271f3e"
      },
      "outputs": [
        {
          "output_type": "execute_result",
          "data": {
            "text/plain": [
              "[0, 1, 2]"
            ]
          },
          "metadata": {},
          "execution_count": 53
        }
      ],
      "source": [
        "defectuosos"
      ]
    },
    {
      "cell_type": "markdown",
      "metadata": {
        "id": "wNhh9tILIxBU"
      },
      "source": [
        "Calculemos la frecuencia de aparición de los objetos defectuosos en los subcomjuntos de tamaño k"
      ]
    },
    {
      "cell_type": "code",
      "execution_count": 54,
      "metadata": {
        "id": "oQvmyoFYI-G_"
      },
      "outputs": [],
      "source": [
        "count_frec = {}"
      ]
    },
    {
      "cell_type": "code",
      "execution_count": 55,
      "metadata": {
        "id": "66bB_TwSI6Qb"
      },
      "outputs": [],
      "source": [
        "for d in defectuosos:\n",
        "  count_frec_d = 0\n",
        "  for i in lista_s:  #Cambiar a lista_comb para calcular el total de casos\n",
        "    if d in i:\n",
        "      count_frec_d +=1\n",
        "      count_frec[d] = count_frec_d"
      ]
    },
    {
      "cell_type": "code",
      "execution_count": 56,
      "metadata": {
        "colab": {
          "base_uri": "https://localhost:8080/"
        },
        "id": "57iubs1_J4ik",
        "outputId": "8ad56070-c1b8-404d-d851-ba42cd27af4f"
      },
      "outputs": [
        {
          "output_type": "execute_result",
          "data": {
            "text/plain": [
              "{0: 2, 1: 3, 2: 6}"
            ]
          },
          "metadata": {},
          "execution_count": 56
        }
      ],
      "source": [
        "count_frec"
      ]
    },
    {
      "cell_type": "markdown",
      "metadata": {
        "id": "YSQz8mijKTJQ"
      },
      "source": [
        "# Entonces,  la probabilidad de tomar UNO de los trozos de tela defectuosos al tomar k trozos de tela es de "
      ]
    },
    {
      "cell_type": "code",
      "source": [
        "print(f'De la lista de objetos defectuosos {defectuosos}, elige uno para obtener su probabilidad de ocurrencia')"
      ],
      "metadata": {
        "colab": {
          "base_uri": "https://localhost:8080/"
        },
        "id": "6ee-dmIxTIQ8",
        "outputId": "68a1438e-8111-44c8-83e3-b14d66812b16"
      },
      "execution_count": 57,
      "outputs": [
        {
          "output_type": "stream",
          "name": "stdout",
          "text": [
            "De la lista de objetos defectuosos [0, 1, 2], elige uno para obtener su probabilidad de ocurrencia\n"
          ]
        }
      ]
    },
    {
      "cell_type": "code",
      "source": [
        "t=int(input( f'De la lista de objetos defectuosos {defectuosos}, elige uno para obtener su probabilidad de ocurrencia: '))"
      ],
      "metadata": {
        "colab": {
          "base_uri": "https://localhost:8080/"
        },
        "id": "O7WQRBjwTdty",
        "outputId": "f0ac47f8-6bd9-484d-a3d5-de4269dc64b1"
      },
      "execution_count": 58,
      "outputs": [
        {
          "name": "stdout",
          "output_type": "stream",
          "text": [
            "De la lista de objetos defectuosos [0, 1, 2], elige uno para obtener su probabilidad de ocurrencia: 2\n"
          ]
        }
      ]
    },
    {
      "cell_type": "code",
      "execution_count": 59,
      "metadata": {
        "colab": {
          "base_uri": "https://localhost:8080/"
        },
        "id": "WwfN9hdEKc4Z",
        "outputId": "10aa42ba-5eb2-4433-c580-79f834943213"
      },
      "outputs": [
        {
          "output_type": "stream",
          "name": "stdout",
          "text": [
            "la probabilidad de tomar UNO de los trozos de tela defectuosos al tomar k trozos de tela es de 0.6\n"
          ]
        }
      ],
      "source": [
        "prob_t = count_frec[t] / s #Cambiar a numero_combinaciones(n,k) para la proba total\n",
        "print(f'la probabilidad de tomar UNO de los trozos de tela defectuosos al tomar k trozos de tela es de {prob_t}')"
      ]
    }
  ],
  "metadata": {
    "colab": {
      "provenance": [],
      "authorship_tag": "ABX9TyPxHyhYomsTVAP9cI5Tcy6+",
      "include_colab_link": true
    },
    "kernelspec": {
      "display_name": "Python 3",
      "name": "python3"
    },
    "language_info": {
      "name": "python"
    }
  },
  "nbformat": 4,
  "nbformat_minor": 0
}