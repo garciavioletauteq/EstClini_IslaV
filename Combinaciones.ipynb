{
  "cells": [
    {
      "cell_type": "markdown",
      "metadata": {
        "id": "view-in-github",
        "colab_type": "text"
      },
      "source": [
        "<a href=\"https://colab.research.google.com/github/garciavioletauteq/PensaMat1/blob/main/Combinaciones.ipynb\" target=\"_parent\"><img src=\"https://colab.research.google.com/assets/colab-badge.svg\" alt=\"Open In Colab\"/></a>"
      ]
    },
    {
      "cell_type": "markdown",
      "metadata": {
        "id": "Fag2rBesv4nq"
      },
      "source": [
        "## Subconjuntos de tamaño k de un conjunto de tamaño n\n",
        "\n",
        "Instrucciones: \n",
        "\n",
        "1. Da clic en el botón ▶ de la pimera línea de código.\n",
        "\n",
        "2. Luego introduce un texto o número cuando se te pide. **Debes dar enter para poder continuar**.\n",
        "\n",
        "3. Sigue dando clic en ▶ en todas las líneas de código hasta obtener tus resultados.\n",
        "\n",
        "\n"
      ]
    },
    {
      "cell_type": "code",
      "source": [
        "#Dependencias\n",
        "import numpy as np\n",
        "import math\n",
        "from itertools import combinations\n",
        "import random\n",
        "import pandas as pd\n"
      ],
      "metadata": {
        "id": "ioHjhJFCbSQr"
      },
      "execution_count": 62,
      "outputs": []
    },
    {
      "cell_type": "markdown",
      "metadata": {
        "id": "jn-41zSAgMpx"
      },
      "source": [
        "# Problema: Tienes n trozos de telas para confeccionar capuchas, sin embargo exactamente k de esas telas están defectuosas.\n",
        "\n",
        "##¿Cuál es la probabilidad de agarrar exactamente los torozos de tela defectuosos?"
      ]
    },
    {
      "cell_type": "code",
      "execution_count": 63,
      "metadata": {
        "colab": {
          "base_uri": "https://localhost:8080/"
        },
        "id": "fMbMt72ql_1F",
        "outputId": "bf7b82b0-bc01-4b9b-907c-4d4d6f4b7f04"
      },
      "outputs": [
        {
          "name": "stdout",
          "output_type": "stream",
          "text": [
            "Introduce el número de objetos: 15\n"
          ]
        }
      ],
      "source": [
        "n= int(input('Introduce el número de objetos: '))"
      ]
    },
    {
      "cell_type": "code",
      "execution_count": 64,
      "metadata": {
        "id": "Z_Heg_CLj8Mn"
      },
      "outputs": [],
      "source": [
        "objetos = [i for i in range(n)]\n",
        "#objetos"
      ]
    },
    {
      "cell_type": "code",
      "execution_count": 65,
      "metadata": {
        "colab": {
          "base_uri": "https://localhost:8080/"
        },
        "id": "4iasaeuLkfTv",
        "outputId": "4efdad64-9ce4-4cf8-ef35-f42e1a307ea8"
      },
      "outputs": [
        {
          "name": "stdout",
          "output_type": "stream",
          "text": [
            "Introduce aquí el tamaño de los subconjutos de objetos 6\n"
          ]
        }
      ],
      "source": [
        "k= int(input(f'Introduce aquí el tamaño de los subconjutos de objetos '))"
      ]
    },
    {
      "cell_type": "code",
      "execution_count": 66,
      "metadata": {
        "colab": {
          "base_uri": "https://localhost:8080/"
        },
        "id": "SYE7SgCUlCfz",
        "outputId": "13f27d92-2940-46c6-a72d-5171524ce70b"
      },
      "outputs": [
        {
          "output_type": "stream",
          "name": "stdout",
          "text": [
            " Un subconjunto de 6 objetos al azar es: [ 0 12  2  4  1  7]\n"
          ]
        }
      ],
      "source": [
        "def selectRandom(listaPalabras):\n",
        "  return numpy.random.choice(objetos,k,False)\n",
        "\n",
        "print(f' Un subconjunto de {k} objetos al azar es: {selectRandom(objetos)}')"
      ]
    },
    {
      "cell_type": "markdown",
      "metadata": {
        "id": "KxyyZfcCmRDv"
      },
      "source": [
        "Calcula el número de subconjuntos de tamaño k del conjunto de n objetos"
      ]
    },
    {
      "cell_type": "code",
      "execution_count": 67,
      "metadata": {
        "id": "JIP5BW-6l3N_"
      },
      "outputs": [],
      "source": [
        "def numero_combinaciones(n,k):\n",
        "  if n<k:\n",
        "    return 0\n",
        "  else:\n",
        "    comb = math.factorial(n) / (math.factorial(k) * math.factorial(n-k))\n",
        "    return comb"
      ]
    },
    {
      "cell_type": "code",
      "execution_count": 68,
      "metadata": {
        "colab": {
          "base_uri": "https://localhost:8080/"
        },
        "id": "Y01ee3BwnGe5",
        "outputId": "bbe2123d-e3b9-43b4-adaf-d6a55cceb4e1"
      },
      "outputs": [
        {
          "output_type": "execute_result",
          "data": {
            "text/plain": [
              "5005.0"
            ]
          },
          "metadata": {},
          "execution_count": 68
        }
      ],
      "source": [
        "numero_combinaciones(n,k)"
      ]
    },
    {
      "cell_type": "code",
      "source": [
        "print(f'Podemos elegir k objetos del conjunto de n de {numero_combinaciones(n,k)} maneras distintas')"
      ],
      "metadata": {
        "colab": {
          "base_uri": "https://localhost:8080/"
        },
        "id": "b7EPlBVIcbpR",
        "outputId": "8cbaf363-6231-4289-a894-936f55b7ffdc"
      },
      "execution_count": 69,
      "outputs": [
        {
          "output_type": "stream",
          "name": "stdout",
          "text": [
            "Podemos elegir k objetos del conjunto de n de 5005.0 maneras distintas\n"
          ]
        }
      ]
    },
    {
      "cell_type": "markdown",
      "metadata": {
        "id": "bm5n4C1coMmb"
      },
      "source": [
        "Simularemos las combinaciones"
      ]
    },
    {
      "cell_type": "code",
      "execution_count": 71,
      "metadata": {
        "id": "JptasNvrsiH6"
      },
      "outputs": [],
      "source": [
        "# A Python program to print all\n",
        "# combinations of a given length\n",
        "lista_comb = []\n",
        "comb_nk = combinations(objetos, k)\n",
        "\n",
        "# Print the obtained combinations\n",
        "for i in list(comb_nk):\n",
        "\tlista_comb.append(i)\n"
      ]
    },
    {
      "cell_type": "code",
      "execution_count": 72,
      "metadata": {
        "id": "b7LzAgN7HdVz"
      },
      "outputs": [],
      "source": [
        "#Descomentar para ver TODOS los subconjuntos\n",
        "#lista_comb"
      ]
    },
    {
      "cell_type": "markdown",
      "metadata": {
        "id": "yjhNlkCoL82P"
      },
      "source": [
        "Supongamos que solamente queremos algunos de estos subconjuntos. "
      ]
    },
    {
      "cell_type": "code",
      "execution_count": 73,
      "metadata": {
        "colab": {
          "base_uri": "https://localhost:8080/"
        },
        "id": "wwj5xbW9MBpA",
        "outputId": "e5d7ea0f-1a0b-40b8-f871-c6e4fe783313"
      },
      "outputs": [
        {
          "name": "stdout",
          "output_type": "stream",
          "text": [
            "Elige el número de tiradas para la simulación. Debe ser un número menor a 5005.0: 20\n"
          ]
        }
      ],
      "source": [
        "s=int(input(f'Elige el número de tiradas para la simulación. Debe ser un número menor a {numero_combinaciones(n,k)}: '))"
      ]
    },
    {
      "cell_type": "markdown",
      "metadata": {
        "id": "iNZgiOEWMzt1"
      },
      "source": [
        "Tendremos s subconjuntos de tamaño k"
      ]
    },
    {
      "cell_type": "code",
      "source": [
        "lista_s = random.sample(lista_comb, s )"
      ],
      "metadata": {
        "id": "-xvV9IvxSgYg"
      },
      "execution_count": 74,
      "outputs": []
    },
    {
      "cell_type": "code",
      "execution_count": 75,
      "metadata": {
        "colab": {
          "base_uri": "https://localhost:8080/"
        },
        "id": "I20ZvfFgNhJm",
        "outputId": "3cbc70f9-ef25-4a43-9dc9-13036e61f744"
      },
      "outputs": [
        {
          "output_type": "stream",
          "name": "stdout",
          "text": [
            "[(2, 4, 6, 8, 11, 14), (4, 5, 6, 11, 13, 14), (5, 6, 9, 10, 11, 12), (0, 1, 6, 7, 9, 11), (3, 5, 6, 8, 11, 12), (3, 4, 6, 7, 8, 13), (0, 3, 5, 7, 10, 12), (0, 2, 4, 9, 12, 14), (0, 6, 7, 9, 10, 11), (3, 7, 8, 9, 10, 14), (1, 2, 4, 6, 10, 11), (1, 5, 7, 8, 11, 13), (1, 2, 4, 7, 8, 11), (1, 3, 5, 6, 11, 12), (5, 7, 9, 10, 11, 12), (4, 5, 9, 10, 11, 14), (1, 5, 8, 9, 10, 12), (0, 4, 5, 6, 12, 14), (0, 1, 6, 8, 12, 14), (0, 1, 2, 5, 11, 12)]\n"
          ]
        }
      ],
      "source": [
        "print(lista_s)"
      ]
    },
    {
      "cell_type": "markdown",
      "metadata": {
        "id": "bxkzoBB6viSs"
      },
      "source": [
        "#Calculemos los casos posibles.\n",
        "\n",
        "Supongamos que tenemos r objetos defectuosos"
      ]
    },
    {
      "cell_type": "code",
      "execution_count": 76,
      "metadata": {
        "colab": {
          "base_uri": "https://localhost:8080/"
        },
        "id": "lnoIcRCRzxDc",
        "outputId": "c6441382-f0f6-4b74-d6c3-83367c68bdfc"
      },
      "outputs": [
        {
          "name": "stdout",
          "output_type": "stream",
          "text": [
            "introduce la cantidad de objetos defectuosos: 3\n"
          ]
        }
      ],
      "source": [
        "r= int(input('introduce la cantidad de objetos defectuosos: '))"
      ]
    },
    {
      "cell_type": "markdown",
      "metadata": {
        "id": "RkrDdrWKIL5E"
      },
      "source": [
        "Supondremos por comodidad que los objetos defectuosos son los primeros r en la lista de n elementos {1,2,..., r}"
      ]
    },
    {
      "cell_type": "code",
      "execution_count": 77,
      "metadata": {
        "id": "lbE59fJeILbp"
      },
      "outputs": [],
      "source": [
        "defectuosos = list(range(r))"
      ]
    },
    {
      "cell_type": "code",
      "execution_count": 79,
      "metadata": {
        "colab": {
          "base_uri": "https://localhost:8080/"
        },
        "id": "yPrpjVSUH3ne",
        "outputId": "71228195-f530-4793-e472-32448e1bcab5"
      },
      "outputs": [
        {
          "output_type": "stream",
          "name": "stdout",
          "text": [
            " los elementos en  [0, 1, 2] serán los objetos defectuosos\n"
          ]
        }
      ],
      "source": [
        "print(f' los elementos en  {defectuosos} serán los objetos defectuosos')"
      ]
    },
    {
      "cell_type": "markdown",
      "metadata": {
        "id": "wNhh9tILIxBU"
      },
      "source": [
        "Calculemos la frecuencia de aparición de los objetos defectuosos en los subcomjuntos de tamaño k"
      ]
    },
    {
      "cell_type": "code",
      "execution_count": 81,
      "metadata": {
        "id": "66bB_TwSI6Qb"
      },
      "outputs": [],
      "source": [
        "count_frec = {}\n",
        "for d in defectuosos:\n",
        "  count_frec_d = 0\n",
        "  for i in lista_s:  #Cambiar a lista_comb para calcular el total de casos\n",
        "    if d in i:\n",
        "      count_frec_d +=1\n",
        "      count_frec[d] = count_frec_d"
      ]
    },
    {
      "cell_type": "code",
      "execution_count": 82,
      "metadata": {
        "colab": {
          "base_uri": "https://localhost:8080/"
        },
        "id": "57iubs1_J4ik",
        "outputId": "e07005f3-f091-44b9-f629-f4c64991edfa"
      },
      "outputs": [
        {
          "output_type": "stream",
          "name": "stdout",
          "text": [
            "{0: 7, 1: 8, 2: 5} indica la frecuencia que aparece cada objeto defectuoso en la lista de 20 tiradas \n"
          ]
        }
      ],
      "source": [
        "print(f'{count_frec} indica la frecuencia que aparece cada objeto defectuoso en la lista de {s} tiradas ') "
      ]
    },
    {
      "cell_type": "code",
      "source": [
        "pd.DataFrame.from_dict(count_frec, orient=\"index\").sort_index().plot(kind=\"bar\")"
      ],
      "metadata": {
        "colab": {
          "base_uri": "https://localhost:8080/",
          "height": 442
        },
        "id": "2f8r-X5eb1Up",
        "outputId": "461ff9c4-4889-4230-af96-540ba29f2037"
      },
      "execution_count": 83,
      "outputs": [
        {
          "output_type": "execute_result",
          "data": {
            "text/plain": [
              "<Axes: >"
            ]
          },
          "metadata": {},
          "execution_count": 83
        },
        {
          "output_type": "display_data",
          "data": {
            "text/plain": [
              "<Figure size 640x480 with 1 Axes>"
            ],
            "image/png": "[encoded data removed]"
          },
          "metadata": {}
        }
      ]
    },
    {
      "cell_type": "markdown",
      "metadata": {
        "id": "YSQz8mijKTJQ"
      },
      "source": [
        "# Entonces,  la probabilidad de tomar UNO de los trozos de tela defectuosos al tomar k trozos de tela es de "
      ]
    },
    {
      "cell_type": "code",
      "source": [
        "print(f'De la lista de objetos defectuosos {defectuosos}, elige uno para obtener su probabilidad de ocurrencia')"
      ],
      "metadata": {
        "colab": {
          "base_uri": "https://localhost:8080/"
        },
        "id": "6ee-dmIxTIQ8",
        "outputId": "284f762c-996d-4a5f-92ac-fecda6cc59ef"
      },
      "execution_count": 84,
      "outputs": [
        {
          "output_type": "stream",
          "name": "stdout",
          "text": [
            "De la lista de objetos defectuosos [0, 1, 2], elige uno para obtener su probabilidad de ocurrencia\n"
          ]
        }
      ]
    },
    {
      "cell_type": "code",
      "source": [
        "t=int(input( f'De la lista de objetos defectuosos {defectuosos}, elige uno para obtener su probabilidad de ocurrencia: '))"
      ],
      "metadata": {
        "colab": {
          "base_uri": "https://localhost:8080/"
        },
        "id": "O7WQRBjwTdty",
        "outputId": "60438f64-7d49-4ba1-eb93-fcd5083650d6"
      },
      "execution_count": 85,
      "outputs": [
        {
          "name": "stdout",
          "output_type": "stream",
          "text": [
            "De la lista de objetos defectuosos [0, 1, 2], elige uno para obtener su probabilidad de ocurrencia: 1\n"
          ]
        }
      ]
    },
    {
      "cell_type": "code",
      "execution_count": 86,
      "metadata": {
        "colab": {
          "base_uri": "https://localhost:8080/"
        },
        "id": "WwfN9hdEKc4Z",
        "outputId": "4eda1977-0690-4ec3-a544-c2ceae36f28d"
      },
      "outputs": [
        {
          "output_type": "stream",
          "name": "stdout",
          "text": [
            "la probabilidad de tomar UNO de los trozos de tela defectuosos al tomar k trozos de tela es de 0.4\n"
          ]
        }
      ],
      "source": [
        "prob_t = count_frec[t] / s #Cambiar a numero_combinaciones(n,k) para la proba total\n",
        "print(f'la probabilidad de tomar UNO de los trozos de tela defectuosos al tomar k trozos de tela es de {prob_t}')"
      ]
    }
  ],
  "metadata": {
    "colab": {
      "provenance": [],
      "authorship_tag": "ABX9TyNrOlIV9J+qMYnivOZeW38w",
      "include_colab_link": true
    },
    "kernelspec": {
      "display_name": "Python 3",
      "name": "python3"
    },
    "language_info": {
      "name": "python"
    }
  },
  "nbformat": 4,
  "nbformat_minor": 0
}