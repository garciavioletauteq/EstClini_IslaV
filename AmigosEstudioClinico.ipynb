{
  "cells": [
    {
      "cell_type": "markdown",
      "metadata": {
        "id": "view-in-github",
        "colab_type": "text"
      },
      "source": [
        "<a href=\"https://colab.research.google.com/github/garciavioletauteq/EstClini_IslaV/blob/main/AmigosEstudioClinico.ipynb\" target=\"_parent\"><img src=\"https://colab.research.google.com/assets/colab-badge.svg\" alt=\"Open In Colab\"/></a>"
      ]
    },
    {
      "cell_type": "markdown",
      "metadata": {
        "id": "Fag2rBesv4nq"
      },
      "source": [
        "## Amigos en un estuido clínico\n",
        "\n",
        "Instrucciones: \n",
        "\n",
        "1. Da clic en el botón ▶ de la pimera línea de código.\n",
        "\n",
        "2. Luego introduce un texto o número cuando se te pide. **Debes dar enter para poder continuar**.\n",
        "\n",
        "3. Sigue dando clic en ▶ en todas las líneas de código hasta obtener tus resultados.\n",
        "\n",
        "\n"
      ]
    },
    {
      "cell_type": "code",
      "source": [
        "#Dependencias\n",
        "import numpy as np\n",
        "import math\n",
        "from itertools import combinations\n",
        "import random\n",
        "import pandas as pd\n",
        "from numpy.lib.arraysetops import isin"
      ],
      "metadata": {
        "id": "ioHjhJFCbSQr"
      },
      "execution_count": 1,
      "outputs": []
    },
    {
      "cell_type": "code",
      "source": [
        "#print(np.__version__)\n",
        "#print(pd.__version__)"
      ],
      "metadata": {
        "id": "X7d3sPLDoSab"
      },
      "execution_count": 2,
      "outputs": []
    },
    {
      "cell_type": "markdown",
      "metadata": {
        "id": "jn-41zSAgMpx"
      },
      "source": [
        "# Problema: Estuido Clínico\n",
        "\n",
        "Tenemos un número par $n=2m$, de individuos a quienes se les aplicará un estuido clínico, donde 50% de ellos ($m$ personas) serán el grupo control y 50% el grupo experimiental.\n",
        "\n",
        "Tenemos $k$ amigos que van a participar en el estudio.\n",
        "\n",
        "¿Cuál es la probabilidad de que los $k$ amigos entren en el grupo experimental?"
      ]
    },
    {
      "cell_type": "code",
      "execution_count": 6,
      "metadata": {
        "colab": {
          "base_uri": "https://localhost:8080/"
        },
        "id": "fMbMt72ql_1F",
        "outputId": "5e8b7ad9-c353-4905-85a3-7b25ae43b9d3"
      },
      "outputs": [
        {
          "name": "stdout",
          "output_type": "stream",
          "text": [
            "Introduce el número de personas en el grupo experimental: 3\n"
          ]
        }
      ],
      "source": [
        "m= int(input('Introduce el número de personas en el grupo experimental: '))"
      ]
    },
    {
      "cell_type": "code",
      "source": [
        "n=2*m"
      ],
      "metadata": {
        "id": "3tLnZyhmK-OW"
      },
      "execution_count": 7,
      "outputs": []
    },
    {
      "cell_type": "code",
      "source": [
        "print(f' Entonces nuestro grupo de individuos para el estudio será de n={n}')"
      ],
      "metadata": {
        "colab": {
          "base_uri": "https://localhost:8080/"
        },
        "id": "Me9hywCRKvhB",
        "outputId": "c516fd79-53f6-4f01-96a2-142ef7bceffb"
      },
      "execution_count": 8,
      "outputs": [
        {
          "output_type": "stream",
          "name": "stdout",
          "text": [
            " Entonces nuestro grupo de individuos para el estudio será de n=6\n"
          ]
        }
      ]
    },
    {
      "cell_type": "code",
      "execution_count": 9,
      "metadata": {
        "id": "Z_Heg_CLj8Mn",
        "colab": {
          "base_uri": "https://localhost:8080/"
        },
        "outputId": "2709a2d9-59c1-492a-f41b-ba68a93dd821"
      },
      "outputs": [
        {
          "output_type": "execute_result",
          "data": {
            "text/plain": [
              "{1, 2, 3, 4, 5, 6}"
            ]
          },
          "metadata": {},
          "execution_count": 9
        }
      ],
      "source": [
        "individuos = [i for i in range(1,2*m+1)]\n",
        "set(individuos)"
      ]
    },
    {
      "cell_type": "code",
      "execution_count": 10,
      "metadata": {
        "colab": {
          "base_uri": "https://localhost:8080/"
        },
        "id": "SYE7SgCUlCfz",
        "outputId": "660f75ff-27b9-4ab0-e0c7-458ff02b288f"
      },
      "outputs": [
        {
          "output_type": "stream",
          "name": "stdout",
          "text": [
            " Un ejemplo de 3 participantes para el grupo experimental es: {1, 5, 6}\n"
          ]
        }
      ],
      "source": [
        "def selectRandom(listadeonbjetos):\n",
        "  return np.random.choice(individuos,m,False)\n",
        "\n",
        "print(f' Un ejemplo de {m} participantes para el grupo experimental es: {set(selectRandom(individuos))}')"
      ]
    },
    {
      "cell_type": "markdown",
      "metadata": {
        "id": "KxyyZfcCmRDv"
      },
      "source": [
        "Calcula el número de subconjuntos de tamaño m del conjunto de n objetos"
      ]
    },
    {
      "cell_type": "code",
      "execution_count": 11,
      "metadata": {
        "id": "JIP5BW-6l3N_"
      },
      "outputs": [],
      "source": [
        "def numero_combinaciones(n,m):\n",
        "  if n<m:\n",
        "    return 0\n",
        "  else:\n",
        "    comb = math.factorial(n) / (math.factorial(m) * math.factorial(n-m))\n",
        "    return int(comb)"
      ]
    },
    {
      "cell_type": "code",
      "execution_count": 12,
      "metadata": {
        "colab": {
          "base_uri": "https://localhost:8080/"
        },
        "id": "Y01ee3BwnGe5",
        "outputId": "ead94f3d-7e93-43d9-95b5-fbd768e1f5dd"
      },
      "outputs": [
        {
          "output_type": "stream",
          "name": "stdout",
          "text": [
            "Podemos elegir 3 personas para el grupo experimiental del conjunto de 6 participantes de 20 maneras distintas\n"
          ]
        }
      ],
      "source": [
        "numero_combinaciones(n,m)\n",
        "print(f'Podemos elegir {m} personas para el grupo experimiental del conjunto de {n} participantes de {int(numero_combinaciones(n,m))} maneras distintas')"
      ]
    },
    {
      "cell_type": "markdown",
      "metadata": {
        "id": "bm5n4C1coMmb"
      },
      "source": [
        "Simularemos las combinaciones"
      ]
    },
    {
      "cell_type": "code",
      "execution_count": 13,
      "metadata": {
        "id": "JptasNvrsiH6"
      },
      "outputs": [],
      "source": [
        "lista_comb = []\n",
        "comb_nm = combinations(individuos, m)\n",
        "\n",
        "# Print the obtained combinations\n",
        "for i in list(comb_nm):\n",
        "\tlista_comb.append(set(i))\n"
      ]
    },
    {
      "cell_type": "code",
      "execution_count": 14,
      "metadata": {
        "id": "b7LzAgN7HdVz",
        "colab": {
          "base_uri": "https://localhost:8080/"
        },
        "outputId": "e74dedd5-0563-4732-81de-6866287ff3ae"
      },
      "outputs": [
        {
          "output_type": "execute_result",
          "data": {
            "text/plain": [
              "array([{1, 2, 3}, {1, 2, 4}, {1, 2, 5}, {1, 2, 6}, {1, 3, 4}, {1, 3, 5},\n",
              "       {1, 3, 6}, {1, 4, 5}, {1, 4, 6}, {1, 5, 6}, {2, 3, 4}, {2, 3, 5},\n",
              "       {2, 3, 6}, {2, 4, 5}, {2, 4, 6}, {2, 5, 6}, {3, 4, 5}, {3, 4, 6},\n",
              "       {3, 5, 6}, {4, 5, 6}], dtype=object)"
            ]
          },
          "metadata": {},
          "execution_count": 14
        }
      ],
      "source": [
        "#Descomentar la siguiente línea para ver TODOS los subconjuntos (y comentar la última)\n",
        "#print(lista_comb)\n",
        "np.array(lista_comb)"
      ]
    },
    {
      "cell_type": "code",
      "execution_count": 15,
      "metadata": {
        "colab": {
          "base_uri": "https://localhost:8080/"
        },
        "id": "4iasaeuLkfTv",
        "outputId": "3665293d-11bf-495c-e05e-a8c343a7eb19"
      },
      "outputs": [
        {
          "name": "stdout",
          "output_type": "stream",
          "text": [
            "Introduce aquí el número de amigos que particparán en el estudio 2\n"
          ]
        }
      ],
      "source": [
        "k= int(input(f'Introduce aquí el número de amigos que particparán en el estudio '))"
      ]
    },
    {
      "cell_type": "code",
      "source": [
        "amigos=list(range(1,k+1))\n",
        "probs_i={}\n",
        "for i in amigos:\n",
        "  count_i = 0\n",
        "  for j in lista_comb:\n",
        "    if i in j:\n",
        "      count_i +=1\n",
        "      probs_i[i]= count_i\n",
        "print(f'{probs_i} muestra la cantidad de subconjuntos en los que aparecen cada uno de los {k} amigos')"
      ],
      "metadata": {
        "colab": {
          "base_uri": "https://localhost:8080/"
        },
        "id": "AVLsSAvNu8w4",
        "outputId": "9e1c7bdb-8fa3-4d30-a05f-8f9563951427"
      },
      "execution_count": 16,
      "outputs": [
        {
          "output_type": "stream",
          "name": "stdout",
          "text": [
            "{1: 10, 2: 10} muestra la cantidad de subconjuntos en los que aparecen cada uno de los 2 amigos\n"
          ]
        }
      ]
    },
    {
      "cell_type": "markdown",
      "source": [
        "La probabilidad de que cada uno de los amigos quede en el grupo experimental es\n",
        "\n",
        "$P(a) = \\frac{\\textrm{ # de subconjuntos donde aparece a } }{\\textrm{total de subconjuntos de tamaño m de } 2\\cdot m \\textrm{ individuos}}$\n",
        "\n",
        "En cualquier caso, $P(a) = 0.5$."
      ],
      "metadata": {
        "id": "_cjuyf9PYDQ8"
      }
    },
    {
      "cell_type": "code",
      "source": [
        "print(f' P(a) = {probs_i[1]/numero_combinaciones(n,m)} ')"
      ],
      "metadata": {
        "colab": {
          "base_uri": "https://localhost:8080/"
        },
        "id": "qv2f0Z0cZGD7",
        "outputId": "2a141436-cba6-481c-efab-5739dd4e581f"
      },
      "execution_count": 17,
      "outputs": [
        {
          "output_type": "stream",
          "name": "stdout",
          "text": [
            " P(a) = 0.5 \n"
          ]
        }
      ]
    },
    {
      "cell_type": "markdown",
      "source": [
        "Calculemos la cantidad de subconjuntos de tamaño $m$ en donde aparecen dos de ellos, digamos 1 y 2"
      ],
      "metadata": {
        "id": "LH0IFJVpMtva"
      }
    },
    {
      "cell_type": "code",
      "source": [
        "dos_amigos=[1,2]\n",
        "numctos_dos = 0\n",
        "for j in lista_comb:\n",
        "  if (dos_amigos[0] in j) and (dos_amigos[1] in j):\n",
        "    numctos_dos += 1\n",
        "print(f' el número de subconjuntos de tamaño {m} en donde aparecen dos amigos es {numctos_dos}')"
      ],
      "metadata": {
        "colab": {
          "base_uri": "https://localhost:8080/"
        },
        "id": "m3OURWkeM-Xm",
        "outputId": "eb124a6a-ef07-4fb2-f8be-aaa10e1c5918"
      },
      "execution_count": 18,
      "outputs": [
        {
          "output_type": "stream",
          "name": "stdout",
          "text": [
            " el número de subconjuntos de tamaño 3 en donde aparecen dos amigos es 4\n"
          ]
        }
      ]
    },
    {
      "cell_type": "markdown",
      "source": [
        "Calculemos la cantidad de subconjuntos de tamaño $m$ en donde aparecen varios amigos."
      ],
      "metadata": {
        "id": "-Q_rojw_urpC"
      }
    },
    {
      "cell_type": "code",
      "source": [
        "amigos"
      ],
      "metadata": {
        "colab": {
          "base_uri": "https://localhost:8080/"
        },
        "id": "V8DwztxP4CVl",
        "outputId": "93d489af-5a32-4490-f35b-eb1bf27b2cc7"
      },
      "execution_count": 19,
      "outputs": [
        {
          "output_type": "execute_result",
          "data": {
            "text/plain": [
              "[1, 2]"
            ]
          },
          "metadata": {},
          "execution_count": 19
        }
      ]
    },
    {
      "cell_type": "code",
      "source": [
        "l_amigos=[]\n",
        "for p in list(range(1,k+1)):\n",
        "  l_amigos.append(set(amigos[:p]))\n",
        "print(l_amigos)"
      ],
      "metadata": {
        "colab": {
          "base_uri": "https://localhost:8080/"
        },
        "id": "HW0f5xHVV5Mn",
        "outputId": "0ba68cce-6f86-4647-b174-80796dc1af1c"
      },
      "execution_count": 20,
      "outputs": [
        {
          "output_type": "stream",
          "name": "stdout",
          "text": [
            "[{1}, {1, 2}]\n"
          ]
        }
      ]
    },
    {
      "cell_type": "code",
      "source": [
        "# =)\n",
        "count_q_dict={}\n",
        "for q in l_amigos:\n",
        "  interesectcionconq_num=0\n",
        "  intersectanaq_lista=[]\n",
        "  for j in lista_comb:\n",
        "    if q & j == q:\n",
        "      interesectcionconq_num +=1\n",
        "      intersectanaq_lista.append(j)\n",
        "  count_q_dict[str(q)]=interesectcionconq_num\n",
        "print(f'{count_q_dict} indica la cantidad de subconjuntos de tamaño {m} donde aparecen varios amigos (desde solo 1, hasta los k)') "
      ],
      "metadata": {
        "colab": {
          "base_uri": "https://localhost:8080/"
        },
        "id": "UbSdY_RUjwk5",
        "outputId": "951843f2-7acb-4616-8392-f632e47225e7"
      },
      "execution_count": 21,
      "outputs": [
        {
          "output_type": "stream",
          "name": "stdout",
          "text": [
            "{'{1}': 10, '{1, 2}': 4} indica la cantidad de subconjuntos de tamaño 3 donde aparecen varios amigos (desde solo 1, hasta los k)\n"
          ]
        }
      ]
    },
    {
      "cell_type": "markdown",
      "source": [
        "La probabilidad de que los $k$ amigos queden en el mismo grupo\n",
        "\n",
        "---\n",
        "\n"
      ],
      "metadata": {
        "id": "jSRec2BkqRs-"
      }
    },
    {
      "cell_type": "code",
      "source": [
        "print(f' la probabilidad de que todos los {k} amigos queden en el grupo experimiental es {count_q_dict[str(l_amigos[k-1])] / numero_combinaciones(n,m)} ')"
      ],
      "metadata": {
        "colab": {
          "base_uri": "https://localhost:8080/"
        },
        "id": "uMzdj6Ktqaiw",
        "outputId": "b795e5e4-b7c3-49a1-85e4-367ba451ea57"
      },
      "execution_count": 22,
      "outputs": [
        {
          "output_type": "stream",
          "name": "stdout",
          "text": [
            " la probabilidad de que todos los 2 amigos queden en el grupo experimiental es 0.2 \n"
          ]
        }
      ]
    },
    {
      "cell_type": "markdown",
      "source": [
        "Para calcular la probabilidad de que $r$ amigos (para $r<k$), queden en el grupo experimental es:"
      ],
      "metadata": {
        "id": "WMHzE9ustGtw"
      }
    },
    {
      "cell_type": "code",
      "source": [
        "r=int(input(f' Elige una cantidad de r de los {k} amigos: '))"
      ],
      "metadata": {
        "colab": {
          "base_uri": "https://localhost:8080/"
        },
        "id": "vkg7v9petFYS",
        "outputId": "4852c5a9-d253-4e88-914f-26248035e86b"
      },
      "execution_count": 23,
      "outputs": [
        {
          "name": "stdout",
          "output_type": "stream",
          "text": [
            " Elige una cantidad de r de los 2 amigos: 2\n"
          ]
        }
      ]
    },
    {
      "cell_type": "code",
      "source": [
        "print(f' La probabilidad de que {r} del conjunto de {k} amigos queden en el grupo experimental es { count_q_dict[str(l_amigos[r-1])] / numero_combinaciones(n,m)}')"
      ],
      "metadata": {
        "colab": {
          "base_uri": "https://localhost:8080/"
        },
        "id": "rpVWDGwxttn_",
        "outputId": "0e4d6c09-96f4-4bf3-ba84-2aa694b9a821"
      },
      "execution_count": 24,
      "outputs": [
        {
          "output_type": "stream",
          "name": "stdout",
          "text": [
            " La probabilidad de que 2 del conjunto de 2 amigos queden en el grupo experimental es 0.2\n"
          ]
        }
      ]
    }
  ],
  "metadata": {
    "colab": {
      "provenance": [],
      "authorship_tag": "ABX9TyNqCe8B/fB2vKqFzlVU8rv+",
      "include_colab_link": true
    },
    "kernelspec": {
      "display_name": "Python 3",
      "name": "python3"
    },
    "language_info": {
      "name": "python"
    }
  },
  "nbformat": 4,
  "nbformat_minor": 0
}