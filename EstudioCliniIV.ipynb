{
  "cells": [
    {
      "cell_type": "markdown",
      "metadata": {
        "id": "view-in-github",
        "colab_type": "text"
      },
      "source": [
        "<a href=\"https://colab.research.google.com/github/garciavioletauteq/EstClini_IslaV/blob/main/EstudioCliniIV.ipynb\" target=\"_parent\"><img src=\"https://colab.research.google.com/assets/colab-badge.svg\" alt=\"Open In Colab\"/></a>"
      ]
    },
    {
      "cell_type": "markdown",
      "metadata": {
        "id": "Fag2rBesv4nq"
      },
      "source": [
        "## Estudio Clínico en Isla Viva\n",
        "\n",
        "Instrucciones: \n",
        "\n",
        "1. Da clic en el botón ▶ de la pimera línea de código.\n",
        "\n",
        "2. Luego introduce un texto o número cuando se te pide. **Debes dar enter para poder continuar**.\n",
        "\n",
        "3. Sigue dando clic en ▶ en todas las líneas de código hasta obtener tus resultados.\n",
        "\n",
        "\n"
      ]
    },
    {
      "cell_type": "code",
      "source": [
        "#Dependencias\n",
        "import numpy as np\n",
        "import math\n",
        "from itertools import combinations\n",
        "import random\n",
        "import pandas as pd\n",
        "from numpy.lib.arraysetops import isin"
      ],
      "metadata": {
        "id": "ioHjhJFCbSQr"
      },
      "execution_count": 1,
      "outputs": []
    },
    {
      "cell_type": "code",
      "source": [
        "#print(np.__version__)\n",
        "#print(pd.__version__)"
      ],
      "metadata": {
        "id": "X7d3sPLDoSab"
      },
      "execution_count": 17,
      "outputs": []
    },
    {
      "cell_type": "markdown",
      "metadata": {
        "id": "jn-41zSAgMpx"
      },
      "source": [
        "# Problema: Estuido Clínico\n",
        "\n",
        "Tenemos un número par $n=2m$, de individuos a quienes se les aplicará un estuido clínico, donde 50% de ellos ($m$ personas) serán el grupo control y 50% el grupo experimiental.\n",
        "\n",
        "Tenemos $k$ amigos que van a participar en el estudio.\n",
        "\n",
        "¿Cuál es la probabilidad de que los $k$ amigos entren en el grupo experimental?"
      ]
    },
    {
      "cell_type": "code",
      "execution_count": 6,
      "metadata": {
        "colab": {
          "base_uri": "https://localhost:8080/"
        },
        "id": "fMbMt72ql_1F",
        "outputId": "595d6f8f-6068-455f-c0dd-fe3e580b3225"
      },
      "outputs": [
        {
          "name": "stdout",
          "output_type": "stream",
          "text": [
            "Introduce el número de personas en el grupo experimental: 8\n"
          ]
        }
      ],
      "source": [
        "m= int(input('Introduce el número de personas en el grupo experimental: '))"
      ]
    },
    {
      "cell_type": "code",
      "source": [
        "n=2*m"
      ],
      "metadata": {
        "id": "3tLnZyhmK-OW"
      },
      "execution_count": 7,
      "outputs": []
    },
    {
      "cell_type": "code",
      "source": [
        "print(f' Entonces nuestro grupo de individuos para el estudio será de n={n}')"
      ],
      "metadata": {
        "colab": {
          "base_uri": "https://localhost:8080/"
        },
        "id": "Me9hywCRKvhB",
        "outputId": "2ac47aaa-cae2-48f8-b69e-e0a9a441914c"
      },
      "execution_count": 8,
      "outputs": [
        {
          "output_type": "stream",
          "name": "stdout",
          "text": [
            " Entonces nuestro grupo de individuos para el estudio será de n=16\n"
          ]
        }
      ]
    },
    {
      "cell_type": "code",
      "execution_count": 9,
      "metadata": {
        "id": "Z_Heg_CLj8Mn",
        "colab": {
          "base_uri": "https://localhost:8080/"
        },
        "outputId": "db0a0859-7724-437f-fb7f-61e44c61449c"
      },
      "outputs": [
        {
          "output_type": "execute_result",
          "data": {
            "text/plain": [
              "{1, 2, 3, 4, 5, 6, 7, 8, 9, 10, 11, 12, 13, 14, 15, 16}"
            ]
          },
          "metadata": {},
          "execution_count": 9
        }
      ],
      "source": [
        "individuos = [i for i in range(1,2*m+1)]\n",
        "set(individuos)"
      ]
    },
    {
      "cell_type": "code",
      "execution_count": 10,
      "metadata": {
        "colab": {
          "base_uri": "https://localhost:8080/"
        },
        "id": "SYE7SgCUlCfz",
        "outputId": "26794066-49b7-493d-81a9-b83d520effed"
      },
      "outputs": [
        {
          "output_type": "stream",
          "name": "stdout",
          "text": [
            " Un ejemplo de 8 participantes para el grupo experimental es: {3, 4, 6, 10, 11, 12, 14, 16}\n"
          ]
        }
      ],
      "source": [
        "def selectRandom(listadeonbjetos):\n",
        "  return np.random.choice(individuos,m,False)\n",
        "\n",
        "print(f' Un ejemplo de {m} participantes para el grupo experimental es: {set(selectRandom(individuos))}')"
      ]
    },
    {
      "cell_type": "markdown",
      "metadata": {
        "id": "KxyyZfcCmRDv"
      },
      "source": [
        "Calcula el número de subconjuntos de tamaño m del conjunto de n objetos"
      ]
    },
    {
      "cell_type": "code",
      "execution_count": 11,
      "metadata": {
        "id": "JIP5BW-6l3N_"
      },
      "outputs": [],
      "source": [
        "def numero_combinaciones(n,m):\n",
        "  if n<m:\n",
        "    return 0\n",
        "  else:\n",
        "    comb = math.factorial(n) / (math.factorial(m) * math.factorial(n-m))\n",
        "    return int(comb)"
      ]
    },
    {
      "cell_type": "code",
      "execution_count": 13,
      "metadata": {
        "colab": {
          "base_uri": "https://localhost:8080/"
        },
        "id": "Y01ee3BwnGe5",
        "outputId": "b0a26b6c-fa87-4f44-b89a-d63c2b90cc15"
      },
      "outputs": [
        {
          "output_type": "stream",
          "name": "stdout",
          "text": [
            "Podemos elegir 8 personas para el grupo experimiental del conjunto de 16 participantes de 12870 maneras distintas\n"
          ]
        }
      ],
      "source": [
        "numero_combinaciones(n,m)\n",
        "print(f'Podemos elegir {m} personas para el grupo experimiental del conjunto de {n} participantes de {int(numero_combinaciones(n,m))} maneras distintas')"
      ]
    },
    {
      "cell_type": "markdown",
      "metadata": {
        "id": "bm5n4C1coMmb"
      },
      "source": [
        "Simularemos las combinaciones"
      ]
    },
    {
      "cell_type": "code",
      "execution_count": 18,
      "metadata": {
        "id": "JptasNvrsiH6"
      },
      "outputs": [],
      "source": [
        "lista_comb = []\n",
        "comb_nm = combinations(individuos, m)\n",
        "\n",
        "# Print the obtained combinations\n",
        "for i in list(comb_nm):\n",
        "\tlista_comb.append(set(i))\n"
      ]
    },
    {
      "cell_type": "code",
      "execution_count": 19,
      "metadata": {
        "id": "b7LzAgN7HdVz",
        "colab": {
          "base_uri": "https://localhost:8080/"
        },
        "outputId": "b40d54d8-407b-45f3-ee3c-15c4b3ecbb4c"
      },
      "outputs": [
        {
          "output_type": "execute_result",
          "data": {
            "text/plain": [
              "array([{1, 2, 3, 4, 5, 6, 7, 8}, {1, 2, 3, 4, 5, 6, 7, 9},\n",
              "       {1, 2, 3, 4, 5, 6, 7, 10}, ..., {8, 9, 11, 12, 13, 14, 15, 16},\n",
              "       {8, 10, 11, 12, 13, 14, 15, 16}, {9, 10, 11, 12, 13, 14, 15, 16}],\n",
              "      dtype=object)"
            ]
          },
          "metadata": {},
          "execution_count": 19
        }
      ],
      "source": [
        "#Descomentar la siguiente línea para ver TODOS los subconjuntos (y comentar la última)\n",
        "#print(lista_comb)\n",
        "np.array(lista_comb)"
      ]
    },
    {
      "cell_type": "code",
      "execution_count": 20,
      "metadata": {
        "colab": {
          "base_uri": "https://localhost:8080/"
        },
        "id": "4iasaeuLkfTv",
        "outputId": "a62e4ad4-882f-4f23-af20-b83ae98fee5f"
      },
      "outputs": [
        {
          "name": "stdout",
          "output_type": "stream",
          "text": [
            "Introduce aquí el número de amigos que particparán en el estudio 4\n"
          ]
        }
      ],
      "source": [
        "k= int(input(f'Introduce aquí el número de amigos que particparán en el estudio '))"
      ]
    },
    {
      "cell_type": "code",
      "source": [
        "amigos=list(range(1,k+1))\n",
        "probs_i={}\n",
        "for i in amigos:\n",
        "  count_i = 0\n",
        "  for j in lista_comb:\n",
        "    if i in j:\n",
        "      count_i +=1\n",
        "      probs_i[i]= count_i\n",
        "print(f'{probs_i} muestra la cantidad de subconjuntos en los que aparecen cada uno de los {k} amigos')"
      ],
      "metadata": {
        "colab": {
          "base_uri": "https://localhost:8080/"
        },
        "id": "AVLsSAvNu8w4",
        "outputId": "cc4003dc-65c8-4585-c7c6-721b305be415"
      },
      "execution_count": 21,
      "outputs": [
        {
          "output_type": "stream",
          "name": "stdout",
          "text": [
            "{1: 6435, 2: 6435, 3: 6435, 4: 6435} muestra la cantidad de subconjuntos en los que aparecen cada uno de los 4 amigos\n"
          ]
        }
      ]
    },
    {
      "cell_type": "markdown",
      "source": [
        "La probabilidad de que cada uno de los amigos quede en el grupo experimental es\n",
        "\n",
        "$P(a) = \\frac{\\textrm{ # de subconjuntos donde aparece a } }{\\textrm{total de subconjuntos de tamaño m de } 2\\cdot m \\textrm{ individuos}}$\n",
        "\n",
        "En cualquier caso, $P(a) = 0.5$."
      ],
      "metadata": {
        "id": "_cjuyf9PYDQ8"
      }
    },
    {
      "cell_type": "code",
      "source": [
        "print(f' P(a) = {probs_i[1]/numero_combinaciones(n,m)} ')"
      ],
      "metadata": {
        "colab": {
          "base_uri": "https://localhost:8080/"
        },
        "id": "qv2f0Z0cZGD7",
        "outputId": "5df87fb0-a1a4-4e1a-d10e-193a540d9bf6"
      },
      "execution_count": 22,
      "outputs": [
        {
          "output_type": "stream",
          "name": "stdout",
          "text": [
            " P(a) = 0.5 \n"
          ]
        }
      ]
    },
    {
      "cell_type": "markdown",
      "source": [
        "Calculemos la cantidad de subconjuntos de tamaño $m$ en donde aparecen dos de ellos, digamos 1 y 2"
      ],
      "metadata": {
        "id": "LH0IFJVpMtva"
      }
    },
    {
      "cell_type": "code",
      "source": [
        "dos_amigos=[1,2]\n",
        "numctos_dos = 0\n",
        "for j in lista_comb:\n",
        "  if (dos_amigos[0] in j) and (dos_amigos[1] in j):\n",
        "    numctos_dos += 1\n",
        "print(f' el número de subconjuntos de tamaño {m} en donde aparecen dos amigos es {numctos_dos}')"
      ],
      "metadata": {
        "colab": {
          "base_uri": "https://localhost:8080/"
        },
        "id": "m3OURWkeM-Xm",
        "outputId": "c3e635c9-07c9-4dfc-aba0-303422b4a8e2"
      },
      "execution_count": 23,
      "outputs": [
        {
          "output_type": "stream",
          "name": "stdout",
          "text": [
            " el número de subconjuntos de tamaño 8 en donde aparecen dos amigos es 3003\n"
          ]
        }
      ]
    },
    {
      "cell_type": "markdown",
      "source": [
        "Calculemos la cantidad de subconjuntos de tamaño $m$ en donde aparecen varios amigos."
      ],
      "metadata": {
        "id": "-Q_rojw_urpC"
      }
    },
    {
      "cell_type": "code",
      "source": [
        "amigos"
      ],
      "metadata": {
        "colab": {
          "base_uri": "https://localhost:8080/"
        },
        "id": "V8DwztxP4CVl",
        "outputId": "944a9056-9add-4805-aada-74dd294bf8b6"
      },
      "execution_count": 24,
      "outputs": [
        {
          "output_type": "execute_result",
          "data": {
            "text/plain": [
              "[1, 2, 3, 4]"
            ]
          },
          "metadata": {},
          "execution_count": 24
        }
      ]
    },
    {
      "cell_type": "code",
      "source": [
        "l_amigos=[]\n",
        "for p in list(range(1,k+1)):\n",
        "  l_amigos.append(set(amigos[:p]))\n",
        "print(l_amigos)"
      ],
      "metadata": {
        "colab": {
          "base_uri": "https://localhost:8080/"
        },
        "id": "HW0f5xHVV5Mn",
        "outputId": "e102fe29-3ec9-4843-a8e8-26427af6bac6"
      },
      "execution_count": 25,
      "outputs": [
        {
          "output_type": "stream",
          "name": "stdout",
          "text": [
            "[{1}, {1, 2}, {1, 2, 3}, {1, 2, 3, 4}]\n"
          ]
        }
      ]
    },
    {
      "cell_type": "code",
      "source": [
        "# =)\n",
        "count_q_dict={}\n",
        "for q in l_amigos:\n",
        "  interesectcionconq_num=0\n",
        "  intersectanaq_lista=[]\n",
        "  for j in lista_comb:\n",
        "    if q & j == q:\n",
        "      interesectcionconq_num +=1\n",
        "      intersectanaq_lista.append(j)\n",
        "  count_q_dict[str(q)]=interesectcionconq_num\n",
        "print(f'{count_q_dict} indica la cantidad de subconjuntos de tamaño {m} donde aparecen varios amigos (desde solo 1, hasta los k)') "
      ],
      "metadata": {
        "colab": {
          "base_uri": "https://localhost:8080/"
        },
        "id": "UbSdY_RUjwk5",
        "outputId": "552e5f9c-7836-42b4-f18c-ae88e43142f7"
      },
      "execution_count": 26,
      "outputs": [
        {
          "output_type": "stream",
          "name": "stdout",
          "text": [
            "{'{1}': 6435, '{1, 2}': 3003, '{1, 2, 3}': 1287, '{1, 2, 3, 4}': 495} indica la cantidad de subconjuntos de tamaño 8 donde aparecen varios amigos (desde solo 1, hasta los k)\n"
          ]
        }
      ]
    },
    {
      "cell_type": "markdown",
      "source": [
        "La probabilidad de que los $k$ amigos queden en el mismo grupo\n",
        "\n",
        "---\n",
        "\n"
      ],
      "metadata": {
        "id": "jSRec2BkqRs-"
      }
    },
    {
      "cell_type": "code",
      "source": [
        "print(f' la probabilidad de que todos los {k} amigos queden en el grupo experimiental es {count_q_dict[str(l_amigos[k-1])] / numero_combinaciones(n,m)} ')"
      ],
      "metadata": {
        "colab": {
          "base_uri": "https://localhost:8080/"
        },
        "id": "uMzdj6Ktqaiw",
        "outputId": "6b466cdb-7229-496e-d6a8-d24b74670d94"
      },
      "execution_count": 27,
      "outputs": [
        {
          "output_type": "stream",
          "name": "stdout",
          "text": [
            " la probabilidad de que todos los 4 amigos queden en el grupo experimiental es 0.038461538461538464 \n"
          ]
        }
      ]
    },
    {
      "cell_type": "markdown",
      "source": [
        "Para calcular la probabilidad de que $r$ amigos (para $r<k$), queden en el grupo experimental es:"
      ],
      "metadata": {
        "id": "WMHzE9ustGtw"
      }
    },
    {
      "cell_type": "code",
      "source": [
        "r=int(input(f' Elige una cantidad de r de los {k} amigos: '))"
      ],
      "metadata": {
        "colab": {
          "base_uri": "https://localhost:8080/"
        },
        "id": "vkg7v9petFYS",
        "outputId": "7769ae14-1a96-45ba-ebe0-bcbbf27f6236"
      },
      "execution_count": 28,
      "outputs": [
        {
          "name": "stdout",
          "output_type": "stream",
          "text": [
            " Elige una cantidad de r de los 4 amigos: 2\n"
          ]
        }
      ]
    },
    {
      "cell_type": "code",
      "source": [
        "print(f' La probabilidad de que {r} del conjunto de {k} amigos queden en el grupo experimental es { count_q_dict[str(l_amigos[r-1])] / numero_combinaciones(n,m)}')"
      ],
      "metadata": {
        "colab": {
          "base_uri": "https://localhost:8080/"
        },
        "id": "rpVWDGwxttn_",
        "outputId": "b4448d8a-3c76-4996-86d7-61edcedb81f0"
      },
      "execution_count": 29,
      "outputs": [
        {
          "output_type": "stream",
          "name": "stdout",
          "text": [
            " La probabilidad de que 2 del conjunto de 4 amigos queden en el grupo experimental es 0.23333333333333334\n"
          ]
        }
      ]
    }
  ],
  "metadata": {
    "colab": {
      "provenance": [],
      "authorship_tag": "ABX9TyN6bJEGjTcuMdB2MvuKviDq",
      "include_colab_link": true
    },
    "kernelspec": {
      "display_name": "Python 3",
      "name": "python3"
    },
    "language_info": {
      "name": "python"
    }
  },
  "nbformat": 4,
  "nbformat_minor": 0
}