{
  "cells": [
    {
      "cell_type": "markdown",
      "metadata": {
        "id": "view-in-github",
        "colab_type": "text"
      },
      "source": [
        "<a href=\"https://colab.research.google.com/github/garciavioletauteq/PensaMat1/blob/main/Estudio_cl%C3%ADnico.ipynb\" target=\"_parent\"><img src=\"https://colab.research.google.com/assets/colab-badge.svg\" alt=\"Open In Colab\"/></a>"
      ]
    },
    {
      "cell_type": "markdown",
      "metadata": {
        "id": "Fag2rBesv4nq"
      },
      "source": [
        "## Estudio Clínico en Isla Viva\n",
        "\n",
        "Instrucciones: \n",
        "\n",
        "1. Da clic en el botón ▶ de la pimera línea de código.\n",
        "\n",
        "2. Luego introduce un texto o número cuando se te pide. **Debes dar enter para poder continuar**.\n",
        "\n",
        "3. Sigue dando clic en ▶ en todas las líneas de código hasta obtener tus resultados.\n",
        "\n",
        "\n"
      ]
    },
    {
      "cell_type": "code",
      "source": [
        "#Dependencias\n",
        "import numpy as np\n",
        "import math\n",
        "from itertools import combinations\n",
        "import random\n",
        "import pandas as pd\n",
        "from numpy.lib.arraysetops import isin"
      ],
      "metadata": {
        "id": "ioHjhJFCbSQr"
      },
      "execution_count": null,
      "outputs": []
    },
    {
      "cell_type": "markdown",
      "metadata": {
        "id": "jn-41zSAgMpx"
      },
      "source": [
        "# Problema: Estuido Clínico\n",
        "\n",
        "Tenemos un número par $n=2m$, de individuos a quienes se les aplicará un estuido clínico, donde 50% de ellos ($m$ personas) serán el grupo control y 50% el grupo experimiental.\n",
        "\n",
        "Tenemos $k$ amigos que van a participar en el estudio.\n",
        "\n",
        "¿Cuál es la probabilidad de que los $k$ amigos entren en el grupo experimental?"
      ]
    },
    {
      "cell_type": "code",
      "execution_count": null,
      "metadata": {
        "colab": {
          "base_uri": "https://localhost:8080/"
        },
        "id": "fMbMt72ql_1F",
        "outputId": "fe7259b4-8343-4477-a9fd-cd921255f475"
      },
      "outputs": [
        {
          "name": "stdout",
          "output_type": "stream",
          "text": [
            "Introduce el número de personas en el grupo experimental: 8\n"
          ]
        }
      ],
      "source": [
        "m= int(input('Introduce el número de personas en el grupo experimental: '))"
      ]
    },
    {
      "cell_type": "code",
      "source": [
        "n=2*m"
      ],
      "metadata": {
        "id": "3tLnZyhmK-OW"
      },
      "execution_count": null,
      "outputs": []
    },
    {
      "cell_type": "code",
      "source": [
        "print(f' Entonces nuestro grupo de individuos para el estudio será de n={n}')"
      ],
      "metadata": {
        "colab": {
          "base_uri": "https://localhost:8080/"
        },
        "id": "Me9hywCRKvhB",
        "outputId": "7e56a7ad-7731-400a-ad98-8ee965af7830"
      },
      "execution_count": null,
      "outputs": [
        {
          "output_type": "stream",
          "name": "stdout",
          "text": [
            " Entonces nuestro grupo de individuos para el estudio será de n=16\n"
          ]
        }
      ]
    },
    {
      "cell_type": "code",
      "execution_count": null,
      "metadata": {
        "id": "Z_Heg_CLj8Mn",
        "colab": {
          "base_uri": "https://localhost:8080/"
        },
        "outputId": "67a498a0-8da4-428d-aa15-1708e1e5429a"
      },
      "outputs": [
        {
          "output_type": "execute_result",
          "data": {
            "text/plain": [
              "{1, 2, 3, 4, 5, 6, 7, 8, 9, 10, 11, 12, 13, 14, 15, 16}"
            ]
          },
          "metadata": {},
          "execution_count": 140
        }
      ],
      "source": [
        "individuos = [i for i in range(1,2*m+1)]\n",
        "set(individuos)"
      ]
    },
    {
      "cell_type": "code",
      "execution_count": null,
      "metadata": {
        "colab": {
          "base_uri": "https://localhost:8080/"
        },
        "id": "SYE7SgCUlCfz",
        "outputId": "087fa1ec-275a-4bd7-cc24-3ef53a92e565"
      },
      "outputs": [
        {
          "output_type": "stream",
          "name": "stdout",
          "text": [
            " Un ejemplo de 8 participantes para el grupo experimental es: {1, 2, 4, 7, 8, 11, 14, 15}\n"
          ]
        }
      ],
      "source": [
        "def selectRandom(listadeonbjetos):\n",
        "  return numpy.random.choice(individuos,m,False)\n",
        "\n",
        "print(f' Un ejemplo de {m} participantes para el grupo experimental es: {set(selectRandom(individuos))}')"
      ]
    },
    {
      "cell_type": "markdown",
      "metadata": {
        "id": "KxyyZfcCmRDv"
      },
      "source": [
        "Calcula el número de subconjuntos de tamaño m del conjunto de n objetos"
      ]
    },
    {
      "cell_type": "code",
      "execution_count": null,
      "metadata": {
        "id": "JIP5BW-6l3N_"
      },
      "outputs": [],
      "source": [
        "def numero_combinaciones(n,m):\n",
        "  if n<m:\n",
        "    return 0\n",
        "  else:\n",
        "    comb = math.factorial(n) / (math.factorial(m) * math.factorial(n-m))\n",
        "    return int(comb)"
      ]
    },
    {
      "cell_type": "code",
      "execution_count": null,
      "metadata": {
        "colab": {
          "base_uri": "https://localhost:8080/"
        },
        "id": "Y01ee3BwnGe5",
        "outputId": "4f3d6f32-560f-4015-ca3a-9dff585d163d"
      },
      "outputs": [
        {
          "output_type": "execute_result",
          "data": {
            "text/plain": [
              "12870"
            ]
          },
          "metadata": {},
          "execution_count": 143
        }
      ],
      "source": [
        "numero_combinaciones(n,m)"
      ]
    },
    {
      "cell_type": "code",
      "source": [
        "print(f'Podemos elegir {m} personas para el grupo experimiental del conjunto de {n} participantes de {int(numero_combinaciones(n,m))} maneras distintas')"
      ],
      "metadata": {
        "colab": {
          "base_uri": "https://localhost:8080/"
        },
        "id": "b7EPlBVIcbpR",
        "outputId": "5519cadc-110d-4341-ac26-e56deb7371a0"
      },
      "execution_count": null,
      "outputs": [
        {
          "output_type": "stream",
          "name": "stdout",
          "text": [
            "Podemos elegir 8 personas para el grupo experimiental del conjunto de 16 participantes de 12870 maneras distintas\n"
          ]
        }
      ]
    },
    {
      "cell_type": "markdown",
      "metadata": {
        "id": "bm5n4C1coMmb"
      },
      "source": [
        "Simularemos las combinaciones"
      ]
    },
    {
      "cell_type": "code",
      "execution_count": null,
      "metadata": {
        "id": "JptasNvrsiH6"
      },
      "outputs": [],
      "source": [
        "lista_comb = []\n",
        "comb_nm = combinations(individuos, m)\n",
        "\n",
        "# Print the obtained combinations\n",
        "for i in list(comb_nm):\n",
        "\tlista_comb.append(set(i))\n"
      ]
    },
    {
      "cell_type": "code",
      "execution_count": null,
      "metadata": {
        "id": "b7LzAgN7HdVz",
        "colab": {
          "base_uri": "https://localhost:8080/"
        },
        "outputId": "a7a5ed9b-a0d2-4b77-f471-45ef2235eae3"
      },
      "outputs": [
        {
          "output_type": "execute_result",
          "data": {
            "text/plain": [
              "array([{1, 2, 3, 4, 5, 6, 7, 8}, {1, 2, 3, 4, 5, 6, 7, 9},\n",
              "       {1, 2, 3, 4, 5, 6, 7, 10}, ..., {8, 9, 11, 12, 13, 14, 15, 16},\n",
              "       {8, 10, 11, 12, 13, 14, 15, 16}, {9, 10, 11, 12, 13, 14, 15, 16}],\n",
              "      dtype=object)"
            ]
          },
          "metadata": {},
          "execution_count": 146
        }
      ],
      "source": [
        "#Descomentar la siguiente línea para ver TODOS los subconjuntos (y comentar la última)\n",
        "#print(lista_comb)\n",
        "np.array(lista_comb)"
      ]
    },
    {
      "cell_type": "code",
      "execution_count": null,
      "metadata": {
        "colab": {
          "base_uri": "https://localhost:8080/"
        },
        "id": "4iasaeuLkfTv",
        "outputId": "7d5a316f-2aca-4c97-e9d1-eeb4fa1d8133"
      },
      "outputs": [
        {
          "name": "stdout",
          "output_type": "stream",
          "text": [
            "Introduce aquí el número de amigos que particparán en el estudio 4\n"
          ]
        }
      ],
      "source": [
        "k= int(input(f'Introduce aquí el número de amigos que particparán en el estudio '))"
      ]
    },
    {
      "cell_type": "code",
      "source": [
        "amigos=list(range(1,k+1))\n",
        "probs_i={}\n",
        "for i in amigos:\n",
        "  count_i = 0\n",
        "  for j in lista_comb:\n",
        "    if i in j:\n",
        "      count_i +=1\n",
        "      probs_i[i]= count_i\n",
        "print(f'{probs_i} muestra la cantidad de subconjuntos en los que aparecen cada uno de los {k} amigos')"
      ],
      "metadata": {
        "colab": {
          "base_uri": "https://localhost:8080/"
        },
        "id": "AVLsSAvNu8w4",
        "outputId": "c3502de2-65ac-47c7-879b-feee5744fe78"
      },
      "execution_count": null,
      "outputs": [
        {
          "output_type": "stream",
          "name": "stdout",
          "text": [
            "{1: 6435, 2: 6435, 3: 6435, 4: 6435} muestra la cantidad de subconjuntos en los que aparecen cada uno de los 4 amigos\n"
          ]
        }
      ]
    },
    {
      "cell_type": "markdown",
      "source": [
        "La probabilidad de que cada uno de los amigos quede en el grupo experimental es\n",
        "\n",
        "$P(a) = \\frac{\\textrm{ # de subconjuntos donde aparece a } }{\\textrm{total de subconjuntos de tamaño m de } 2\\cdot m \\textrm{ individuos}}$\n",
        "\n",
        "En cualquier caso, $P(a) = 0.5$."
      ],
      "metadata": {
        "id": "_cjuyf9PYDQ8"
      }
    },
    {
      "cell_type": "code",
      "source": [
        "print(f' P(a) = {probs_i[1]/numero_combinaciones(n,m)} ')"
      ],
      "metadata": {
        "colab": {
          "base_uri": "https://localhost:8080/"
        },
        "id": "qv2f0Z0cZGD7",
        "outputId": "ad1557ae-0c2b-4141-b985-e5bc760811e3"
      },
      "execution_count": null,
      "outputs": [
        {
          "output_type": "stream",
          "name": "stdout",
          "text": [
            " P(a) = 0.5 \n"
          ]
        }
      ]
    },
    {
      "cell_type": "markdown",
      "source": [
        "Calculemos la cantidad de subconjuntos de tamaño $m$ en donde aparecen dos de ellos, digamos 1 y 2"
      ],
      "metadata": {
        "id": "LH0IFJVpMtva"
      }
    },
    {
      "cell_type": "code",
      "source": [
        "dos_amigos=[1,2]\n",
        "numctos_dos = 0\n",
        "for j in lista_comb:\n",
        "  if (dos_amigos[0] in j) and (dos_amigos[1] in j):\n",
        "    numctos_dos += 1\n",
        "print(f' el número de subconjuntos de tamaño {m} en donde aparecen dos amigos es {numctos_dos}')"
      ],
      "metadata": {
        "colab": {
          "base_uri": "https://localhost:8080/"
        },
        "id": "m3OURWkeM-Xm",
        "outputId": "3fa1ba63-43bc-4b41-c008-d0b109a0da23"
      },
      "execution_count": null,
      "outputs": [
        {
          "output_type": "stream",
          "name": "stdout",
          "text": [
            " el número de subconjuntos de tamaño 8 en donde aparecen dos amigos es 3003\n"
          ]
        }
      ]
    },
    {
      "cell_type": "markdown",
      "source": [
        "Calculemos la cantidad de subconjuntos de tamaño $m$ en donde aparecen varios amigos."
      ],
      "metadata": {
        "id": "-Q_rojw_urpC"
      }
    },
    {
      "cell_type": "code",
      "source": [
        "amigos"
      ],
      "metadata": {
        "colab": {
          "base_uri": "https://localhost:8080/"
        },
        "id": "V8DwztxP4CVl",
        "outputId": "d4827cce-2518-49ef-c057-6ca8a6409f4c"
      },
      "execution_count": null,
      "outputs": [
        {
          "output_type": "execute_result",
          "data": {
            "text/plain": [
              "[1, 2, 3, 4]"
            ]
          },
          "metadata": {},
          "execution_count": 175
        }
      ]
    },
    {
      "cell_type": "code",
      "source": [
        "l_amigos=[]\n",
        "for p in list(range(1,k+1)):\n",
        "  l_amigos.append(set(amigos[:p]))\n",
        "print(l_amigos)"
      ],
      "metadata": {
        "colab": {
          "base_uri": "https://localhost:8080/"
        },
        "id": "HW0f5xHVV5Mn",
        "outputId": "4966eb24-5887-4b87-f99e-97b6dd7897a3"
      },
      "execution_count": null,
      "outputs": [
        {
          "output_type": "stream",
          "name": "stdout",
          "text": [
            "[{1}, {1, 2}, {1, 2, 3}, {1, 2, 3, 4}]\n"
          ]
        }
      ]
    },
    {
      "cell_type": "code",
      "source": [
        "# =)\n",
        "count_q_dict={}\n",
        "for q in l_amigos:\n",
        "  interesectcionconq_num=0\n",
        "  intersectanaq_lista=[]\n",
        "  for j in lista_comb:\n",
        "    if q & j == q:\n",
        "      interesectcionconq_num +=1\n",
        "      intersectanaq_lista.append(j)\n",
        "  count_q_dict[str(q)]=interesectcionconq_num\n",
        "print(f'{count_q_dict} indica la cantidad de subconjuntos de tamaño {m} donde aparecen varios amigos (desde solo 1, hasta los k)') "
      ],
      "metadata": {
        "colab": {
          "base_uri": "https://localhost:8080/"
        },
        "id": "UbSdY_RUjwk5",
        "outputId": "551b33ae-e878-4df3-9a8b-2a72f0dcc842"
      },
      "execution_count": null,
      "outputs": [
        {
          "output_type": "stream",
          "name": "stdout",
          "text": [
            "{'{1}': 6435, '{1, 2}': 3003, '{1, 2, 3}': 1287, '{1, 2, 3, 4}': 495} indica la cantidad de subconjuntos de tamaño 8 donde aparecen varios amigos (desde solo 1, hasta los k)\n"
          ]
        }
      ]
    },
    {
      "cell_type": "markdown",
      "source": [
        "La probabilidad de que los $k$ amigos queden en el mismo grupo\n",
        "\n",
        "---\n",
        "\n"
      ],
      "metadata": {
        "id": "jSRec2BkqRs-"
      }
    },
    {
      "cell_type": "code",
      "source": [
        "print(f' la probabilidad de que todos los {k} amigos queden en el grupo experimiental es {count_q_dict[str(l_amigos[k-1])] / numero_combinaciones(n,m)} ')"
      ],
      "metadata": {
        "colab": {
          "base_uri": "https://localhost:8080/"
        },
        "id": "uMzdj6Ktqaiw",
        "outputId": "4c8bca6e-42b3-4e21-dc24-ab99ff621efc"
      },
      "execution_count": null,
      "outputs": [
        {
          "output_type": "stream",
          "name": "stdout",
          "text": [
            " la probabilidad de que todos los 4 amigos queden en el grupo experimiental es 0.038461538461538464 \n"
          ]
        }
      ]
    },
    {
      "cell_type": "markdown",
      "source": [
        "Para calcular la probabilidad de que $r$ amigos (para $r<k$), queden en el grupo experimental es:"
      ],
      "metadata": {
        "id": "WMHzE9ustGtw"
      }
    },
    {
      "cell_type": "code",
      "source": [
        "r=int(input(f' Elige una cantidad de r de los {k} amigos: '))"
      ],
      "metadata": {
        "colab": {
          "base_uri": "https://localhost:8080/"
        },
        "id": "vkg7v9petFYS",
        "outputId": "f8d22ad0-7273-463d-a974-fb03874f87cf"
      },
      "execution_count": null,
      "outputs": [
        {
          "name": "stdout",
          "output_type": "stream",
          "text": [
            " Elige una cantidad de r de los 4 amigos: 3\n"
          ]
        }
      ]
    },
    {
      "cell_type": "code",
      "source": [
        "print(f' La probabilidad de que {r} del conjunto de {k} amigos queden en el grupo experimental es { count_q_dict[str(l_amigos[r-1])] / numero_combinaciones(n,m)}')"
      ],
      "metadata": {
        "colab": {
          "base_uri": "https://localhost:8080/"
        },
        "id": "rpVWDGwxttn_",
        "outputId": "36dfd8e7-0213-4f57-f78c-a8c51c7c274f"
      },
      "execution_count": null,
      "outputs": [
        {
          "output_type": "stream",
          "name": "stdout",
          "text": [
            " La probabilidad de que 3 del conjunto de 4 amigos queden en el grupo experimental es 0.1\n"
          ]
        }
      ]
    }
  ],
  "metadata": {
    "colab": {
      "provenance": [],
      "authorship_tag": "ABX9TyOolhnpuy69t3deiR2CX8hc",
      "include_colab_link": true
    },
    "kernelspec": {
      "display_name": "Python 3",
      "name": "python3"
    },
    "language_info": {
      "name": "python"
    }
  },
  "nbformat": 4,
  "nbformat_minor": 0
}